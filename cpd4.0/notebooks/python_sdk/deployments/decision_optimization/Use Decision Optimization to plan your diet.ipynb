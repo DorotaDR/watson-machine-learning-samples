{
 "cells": [
  {
   "cell_type": "markdown",
   "metadata": {},
   "source": [
    "# Use Decision Optimization to plan your diet with `ibm-watson-machine-learning`\n",
    "\n",
    "This notebook facilitates Decision Optimization and Watson Machine Learning services. It contains steps and code to work with [ibm-watson-machine-learning](https://pypi.python.org/pypi/ibm-watson-machine-learning) library available in PyPI repository. It also introduces commands for getting model and training data, persisting model, deploying model and scoring it.\n",
    "\n",
    "Some familiarity with Python is helpful. This notebook uses Python 3.8."
   ]
  },
  {
   "cell_type": "markdown",
   "metadata": {
    "pycharm": {
     "name": "#%% md\n"
    }
   },
   "source": [
    "## Learning goals\n",
    "\n",
    "The learning goals of this notebook are:\n",
    "\n",
    "-  Load a DO model file into an Watson Machine learning repository.\n",
    "-  Prepare data for training and evaluation.\n",
    "-  Create an DO machine learning job.\n",
    "-  Persist a DO model Watson Machine Learning repository.\n",
    "-  Deploy a model for batch scoring using Wastson Machine Learning API."
   ]
  },
  {
   "cell_type": "markdown",
   "metadata": {
    "pycharm": {
     "name": "#%% md\n"
    }
   },
   "source": [
    "## Contents\n",
    "\n",
    "This notebook contains the following parts:\n",
    "\n",
    "1.\t[Setup](#setup)\n",
    "2.  [Download externally created DO model](#download)\n",
    "3.\t[Persist externally created DO model](#upload)\n",
    "4.\t[Deploy](#deploy)\n",
    "5.\t[Create job](#score)\n",
    "6.  [Clean up](#cleanup)\n",
    "7.\t[Summary and next steps](#summary)\n",
    "\n"
   ]
  },
  {
   "cell_type": "markdown",
   "metadata": {},
   "source": [
    "<a id=\"setup\"></a>\n",
    "## 1. Set up the environment\n",
    "\n",
    "Before you use the sample code in this notebook, you must perform the following setup tasks:\n",
    "\n",
    "-  Contact with your Cloud Pack for Data administrator and ask him for your account credentials"
   ]
  },
  {
   "cell_type": "markdown",
   "metadata": {},
   "source": [
    "### Connection to WML\n",
    "\n",
    "Authenticate the Watson Machine Learning service on IBM Cloud Pack for Data. You need to provide platform `url`, your `username` and `api_key`."
   ]
  },
  {
   "cell_type": "code",
   "execution_count": null,
   "metadata": {},
   "outputs": [],
   "source": [
    "username = 'PASTE YOUR USERNAME HERE'\n",
    "api_key = 'PASTE YOUR API_KEY HERE'\n",
    "url = 'PASTE THE PLATFORM URL HERE'"
   ]
  },
  {
   "cell_type": "code",
   "execution_count": 2,
   "metadata": {},
   "outputs": [],
   "source": [
    "wml_credentials = {\n",
    "    \"username\": username,\n",
    "    \"apikey\": api_key,\n",
    "    \"url\": url,\n",
    "    \"instance_id\": 'openshift',\n",
    "    \"version\": '4.0'\n",
    "}"
   ]
  },
  {
   "cell_type": "markdown",
   "metadata": {},
   "source": [
    "Alternatively you can use `username` and `password` to authenticate WML services.\n",
    "\n",
    "```\n",
    "wml_credentials = {\n",
    "    \"username\": ***,\n",
    "    \"password\": ***,\n",
    "    \"url\": ***,\n",
    "    \"instance_id\": 'openshift',\n",
    "    \"version\": '4.0'\n",
    "}\n",
    "\n",
    "```"
   ]
  },
  {
   "cell_type": "markdown",
   "metadata": {},
   "source": [
    "### Install and import the `ibm-watson-machine-learning` package\n",
    "**Note:** `ibm-watson-machine-learning` documentation can be found <a href=\"http://ibm-wml-api-pyclient.mybluemix.net/\" target=\"_blank\" rel=\"noopener no referrer\">here</a>."
   ]
  },
  {
   "cell_type": "code",
   "execution_count": null,
   "metadata": {},
   "outputs": [],
   "source": [
    "!pip install -U ibm-watson-machine-learning"
   ]
  },
  {
   "cell_type": "code",
   "execution_count": 3,
   "metadata": {},
   "outputs": [],
   "source": [
    "from ibm_watson_machine_learning import APIClient\n",
    "\n",
    "client = APIClient(wml_credentials)"
   ]
  },
  {
   "cell_type": "markdown",
   "metadata": {},
   "source": [
    "### Working with spaces\n",
    "\n",
    "First of all, you need to create a space that will be used for your work. If you do not have space already created, you can use `{PLATFORM_URL}/ml-runtime/spaces?context=icp4data` to create one.\n",
    "\n",
    "- Click New Deployment Space\n",
    "- Create an empty space\n",
    "- Go to space `Settings` tab\n",
    "- Copy `space_id` and paste it below\n",
    "\n",
    "**Tip**: You can also use SDK to prepare the space for your work. More information can be found [here](https://github.com/IBM/watson-machine-learning-samples/blob/master/cpd4.0/notebooks/python_sdk/instance-management/Space%20management.ipynb).\n",
    "\n",
    "**Action**: Assign space ID below"
   ]
  },
  {
   "cell_type": "code",
   "execution_count": null,
   "metadata": {},
   "outputs": [],
   "source": [
    "space_id = 'PASTE YOUR SPACE ID HERE'"
   ]
  },
  {
   "cell_type": "markdown",
   "metadata": {},
   "source": [
    "You can use `list` method to print all existing spaces."
   ]
  },
  {
   "cell_type": "code",
   "execution_count": null,
   "metadata": {},
   "outputs": [],
   "source": [
    "client.spaces.list(limit=10)"
   ]
  },
  {
   "cell_type": "markdown",
   "metadata": {},
   "source": [
    "To be able to interact with all resources available in Watson Machine Learning, you need to set **space** which you will be using."
   ]
  },
  {
   "cell_type": "code",
   "execution_count": 5,
   "metadata": {},
   "outputs": [
    {
     "data": {
      "text/plain": [
       "'SUCCESS'"
      ]
     },
     "execution_count": 5,
     "metadata": {},
     "output_type": "execute_result"
    }
   ],
   "source": [
    "client.set.default_space(space_id)"
   ]
  },
  {
   "cell_type": "markdown",
   "metadata": {
    "pycharm": {
     "name": "#%% md\n"
    }
   },
   "source": [
    "#### <a id=\"download\"></a>\n",
    "## 2. Download externally created DO model and data\n",
    "\n",
    "\n",
    "In this section, you will download externally created DO models and data used for training it.\n",
    "\n",
    "\n",
    "**Action**: Get your DO model."
   ]
  },
  {
   "cell_type": "code",
   "execution_count": 6,
   "metadata": {},
   "outputs": [
    {
     "name": "stdout",
     "output_type": "stream",
     "text": [
      "--2020-12-10 15:53:24--  https://github.com/IBM/watson-machine-learning-samples/raw/master/cpd4.0/models/decision_optimization/do-model.tar.gz\n",
      "Resolving github.com... 140.82.121.4\n",
      "Connecting to github.com|140.82.121.4|:443... connected.\n",
      "HTTP request sent, awaiting response... 302 Found\n",
      "Location: https://raw.githubusercontent.com/IBM/watson-machine-learning-samples/master/cpd4.0/models/decision_optimization/do-model.tar.gz [following]\n",
      "--2020-12-10 15:53:25--  https://raw.githubusercontent.com/IBM/watson-machine-learning-samples/master/cpd4.0/models/decision_optimization/do-model.tar.gz\n",
      "Resolving raw.githubusercontent.com... 151.101.64.133, 151.101.128.133, 151.101.192.133, ...\n",
      "Connecting to raw.githubusercontent.com|151.101.64.133|:443... connected.\n",
      "HTTP request sent, awaiting response... 200 OK\n",
      "Length: 1299 (1.3K) [application/octet-stream]\n",
      "Saving to: 'do-model.tar.gz'\n",
      "\n",
      "do-model.tar.gz     100%[===================>]   1.27K  --.-KB/s    in 0s      \n",
      "\n",
      "2020-12-10 15:53:25 (61.9 MB/s) - 'do-model.tar.gz' saved [1299/1299]\n",
      "\n"
     ]
    }
   ],
   "source": [
    "!wget https://github.com/IBM/watson-machine-learning-samples/raw/master/cpd4.0/models/decision_optimization/do-model.tar.gz \\\n",
    "    -O  do-model.tar.gz"
   ]
  },
  {
   "cell_type": "code",
   "execution_count": 7,
   "metadata": {
    "pycharm": {
     "name": "#%%\n"
    }
   },
   "outputs": [],
   "source": [
    "model_path = 'do-model.tar.gz'"
   ]
  },
  {
   "cell_type": "markdown",
   "metadata": {},
   "source": [
    "\n",
    "<a id=\"upload\"></a>\n",
    "## 3. Persist externally created DO model"
   ]
  },
  {
   "cell_type": "markdown",
   "metadata": {},
   "source": [
    "In this section, you will learn how to store your model in Watson Machine Learning repository by using the Watson Machine Learning Client.\n"
   ]
  },
  {
   "cell_type": "markdown",
   "metadata": {},
   "source": [
    "### 3.1: Publish model\n"
   ]
  },
  {
   "cell_type": "markdown",
   "metadata": {},
   "source": [
    "#### Publish model in Watson Machine Learning repository on Cloud."
   ]
  },
  {
   "cell_type": "markdown",
   "metadata": {},
   "source": [
    "Define model name, autor name and email.\n"
   ]
  },
  {
   "cell_type": "markdown",
   "metadata": {
    "pycharm": {
     "name": "#%% md\n"
    }
   },
   "source": [
    "Get software specification for DO model"
   ]
  },
  {
   "cell_type": "code",
   "execution_count": 8,
   "metadata": {
    "pycharm": {
     "name": "#%%\n"
    }
   },
   "outputs": [],
   "source": [
    "sofware_spec_uid = client.software_specifications.get_uid_by_name(\"do_12.9\")"
   ]
  },
  {
   "cell_type": "markdown",
   "metadata": {
    "pycharm": {
     "name": "#%% md\n"
    }
   },
   "source": [
    "Output data schema for storing model in WML repository"
   ]
  },
  {
   "cell_type": "code",
   "execution_count": 9,
   "metadata": {
    "pycharm": {
     "name": "#%%\n"
    }
   },
   "outputs": [],
   "source": [
    "output_data_schema = [{'id': 'stest',\n",
    "                              'type': 'list',\n",
    "                              'fields': [{'name': 'age', 'type': 'float'},\n",
    "                                         {'name': 'sex', 'type': 'float'},\n",
    "                                         {'name': 'cp', 'type': 'float'},\n",
    "                                         {'name': 'restbp', 'type': 'float'},\n",
    "                                         {'name': 'chol', 'type': 'float'},\n",
    "                                         {'name': 'fbs', 'type': 'float'},\n",
    "                                         {'name': 'restecg', 'type': 'float'},\n",
    "                                         {'name': 'thalach', 'type': 'float'},\n",
    "                                         {'name': 'exang', 'type': 'float'},\n",
    "                                         {'name': 'oldpeak', 'type': 'float'},\n",
    "                                         {'name': 'slope', 'type': 'float'},\n",
    "                                         {'name': 'ca', 'type': 'float'},\n",
    "                                         {'name': 'thal', 'type': 'float'}]\n",
    "                               }, {'id': 'teste2',\n",
    "                 'type': 'test',\n",
    "                 'fields': [{'name': 'age', 'type': 'float'},\n",
    "                            {'name': 'sex', 'type': 'float'},\n",
    "                            {'name': 'cp', 'type': 'float'},\n",
    "                            {'name': 'restbp', 'type': 'float'},\n",
    "                            {'name': 'chol', 'type': 'float'},\n",
    "                            {'name': 'fbs', 'type': 'float'},\n",
    "                            {'name': 'restecg', 'type': 'float'},\n",
    "                            {'name': 'thalach', 'type': 'float'},\n",
    "                            {'name': 'exang', 'type': 'float'},\n",
    "                            {'name': 'oldpeak', 'type': 'float'},\n",
    "                            {'name': 'slope', 'type': 'float'},\n",
    "                            {'name': 'ca', 'type': 'float'},\n",
    "                            {'name': 'thal', 'type': 'float'}]}]"
   ]
  },
  {
   "cell_type": "code",
   "execution_count": 10,
   "metadata": {
    "pycharm": {
     "name": "#%%\n"
    }
   },
   "outputs": [],
   "source": [
    "model_meta_props = {\n",
    "                        client.repository.ModelMetaNames.NAME: \"LOCALLY created DO model\",\n",
    "                        client.repository.ModelMetaNames.TYPE: \"do-docplex_12.9\",\n",
    "                        client.repository.ModelMetaNames.SOFTWARE_SPEC_UID: sofware_spec_uid,\n",
    "                        client.repository.ModelMetaNames.OUTPUT_DATA_SCHEMA: output_data_schema\n",
    "                    }\n",
    "published_model = client.repository.store_model(model=model_path, meta_props=model_meta_props)"
   ]
  },
  {
   "cell_type": "markdown",
   "metadata": {},
   "source": [
    "**Note:** You can see that model is successfully stored in Watson Machine Learning Service."
   ]
  },
  {
   "cell_type": "markdown",
   "metadata": {},
   "source": [
    "### 3.2: Get model details\n"
   ]
  },
  {
   "cell_type": "code",
   "execution_count": null,
   "metadata": {},
   "outputs": [],
   "source": [
    "import json\n",
    "\n",
    "published_model_uid = client.repository.get_model_uid(published_model)\n",
    "model_details = client.repository.get_details(published_model_uid)\n",
    "print(json.dumps(model_details, indent=2))"
   ]
  },
  {
   "cell_type": "markdown",
   "metadata": {},
   "source": [
    "### 3.3 Get all models"
   ]
  },
  {
   "cell_type": "code",
   "execution_count": null,
   "metadata": {
    "pycharm": {
     "name": "#%%\n"
    }
   },
   "outputs": [],
   "source": [
    "client.repository.list_models()"
   ]
  },
  {
   "cell_type": "markdown",
   "metadata": {},
   "source": [
    "<a id=\"deploy\"></a>\n",
    "## 4. Deploy\n",
    "In this section you will learn how to create batch deployment to create job using the Watson Machine Learning Client.\n",
    "\n",
    "You can use commands bellow to create batch deployment for stored model (web service).\n"
   ]
  },
  {
   "cell_type": "markdown",
   "metadata": {},
   "source": [
    "### 4.1: Create model deployment\n"
   ]
  },
  {
   "cell_type": "code",
   "execution_count": 12,
   "metadata": {
    "pycharm": {
     "name": "#%%\n"
    }
   },
   "outputs": [
    {
     "name": "stdout",
     "output_type": "stream",
     "text": [
      "\n",
      "\n",
      "#######################################################################################\n",
      "\n",
      "Synchronous deployment creation for uid: 'f3314451-3e7b-4e21-a7cd-2bd491d5c84a' started\n",
      "\n",
      "#######################################################################################\n",
      "\n",
      "\n",
      "ready.\n",
      "\n",
      "\n",
      "------------------------------------------------------------------------------------------------\n",
      "Successfully finished deployment creation, deployment_uid='a8fd51fb-a7e8-4290-aaea-85221a5bd519'\n",
      "------------------------------------------------------------------------------------------------\n",
      "\n",
      "\n"
     ]
    }
   ],
   "source": [
    "meta_data = {\n",
    "    client.deployments.ConfigurationMetaNames.NAME: \"deployment_DO\",\n",
    "    client.deployments.ConfigurationMetaNames.BATCH: {},\n",
    "    client.deployments.ConfigurationMetaNames.HARDWARE_SPEC: {\"name\": \"S\", \"num_nodes\": 1}\n",
    "\n",
    "}\n",
    "deployment_details = client.deployments.create(published_model_uid, meta_props=meta_data)"
   ]
  },
  {
   "cell_type": "markdown",
   "metadata": {},
   "source": [
    "**Note**: Here we use deployment url saved in published_model object. In next section, we show how to retrive deployment url from Watson Machine Learning instance.\n"
   ]
  },
  {
   "cell_type": "code",
   "execution_count": 13,
   "metadata": {},
   "outputs": [],
   "source": [
    "deployment_uid = client.deployments.get_uid(deployment_details)"
   ]
  },
  {
   "cell_type": "markdown",
   "metadata": {},
   "source": [
    "Now, You can list all deployments."
   ]
  },
  {
   "cell_type": "code",
   "execution_count": null,
   "metadata": {
    "pycharm": {
     "name": "#%%\n"
    }
   },
   "outputs": [],
   "source": [
    "client.deployments.list()"
   ]
  },
  {
   "cell_type": "markdown",
   "metadata": {},
   "source": [
    "### 4.2: Get deployment details\n"
   ]
  },
  {
   "cell_type": "code",
   "execution_count": 14,
   "metadata": {
    "pycharm": {
     "name": "#%%\n"
    }
   },
   "outputs": [
    {
     "data": {
      "text/plain": [
       "{'entity': {'asset': {'id': 'f3314451-3e7b-4e21-a7cd-2bd491d5c84a'},\n",
       "  'batch': {},\n",
       "  'custom': {},\n",
       "  'deployed_asset_type': 'do',\n",
       "  'hardware_spec': {'id': 'e7ed1d6c-2e89-42d7-aed5-863b972c1d2b',\n",
       "   'name': 'S',\n",
       "   'num_nodes': 1},\n",
       "  'name': 'deployment_DO',\n",
       "  'space_id': '1689725f-8035-42be-a9fe-7d3a61de66ee',\n",
       "  'status': {'state': 'ready'}},\n",
       " 'metadata': {'created_at': '2020-12-10T14:54:17.591Z',\n",
       "  'id': 'a8fd51fb-a7e8-4290-aaea-85221a5bd519',\n",
       "  'modified_at': '2020-12-10T14:54:17.591Z',\n",
       "  'name': 'deployment_DO',\n",
       "  'owner': '1000330999',\n",
       "  'space_id': '1689725f-8035-42be-a9fe-7d3a61de66ee'}}"
      ]
     },
     "execution_count": 14,
     "metadata": {},
     "output_type": "execute_result"
    }
   ],
   "source": [
    "client.deployments.get_details(deployment_uid)"
   ]
  },
  {
   "cell_type": "markdown",
   "metadata": {},
   "source": [
    "<a id=\"score\"></a>\n",
    "## 5. Create job\n",
    "\n",
    "You can create job to web-service deployment using `create_job` method."
   ]
  },
  {
   "cell_type": "markdown",
   "metadata": {},
   "source": [
    "Prepare test data "
   ]
  },
  {
   "cell_type": "code",
   "execution_count": 15,
   "metadata": {},
   "outputs": [],
   "source": [
    "import pandas as pd\n",
    "diet_food = pd.DataFrame([[\"Roasted Chicken\", 0.84, 0, 10],\n",
    "                          [\"Spaghetti W/ Sauce\", 0.78, 0, 10],\n",
    "                          [\"Tomato,Red,Ripe,Raw\", 0.27, 0, 10],\n",
    "                          [\"Apple,Raw,W/Skin\", 0.24, 0, 10],\n",
    "                          [\"Grapes\", 0.32, 0, 10],\n",
    "                          [\"Chocolate Chip Cookies\", 0.03, 0, 10],\n",
    "                          [\"Lowfat Milk\", 0.23, 0, 10],\n",
    "                          [\"Raisin Brn\", 0.34, 0, 10],\n",
    "                          [\"Hotdog\", 0.31, 0, 10]], columns=[\"name\", \"unit_cost\", \"qmin\", \"qmax\"])\n",
    "\n",
    "diet_food_nutrients = pd.DataFrame([\n",
    "    [\"Spaghetti W/ Sauce\", 358.2, 80.2, 2.3, 3055.2, 11.6, 58.3, 8.2],\n",
    "    [\"Roasted Chicken\", 277.4, 21.9, 1.8, 77.4, 0, 0, 42.2],\n",
    "    [\"Tomato,Red,Ripe,Raw\", 25.8, 6.2, 0.6, 766.3, 1.4, 5.7, 1],\n",
    "    [\"Apple,Raw,W/Skin\", 81.4, 9.7, 0.2, 73.1, 3.7, 21, 0.3],\n",
    "    [\"Grapes\", 15.1, 3.4, 0.1, 24, 0.2, 4.1, 0.2],\n",
    "    [\"Chocolate Chip Cookies\", 78.1, 6.2, 0.4, 101.8, 0, 9.3, 0.9],\n",
    "    [\"Lowfat Milk\", 121.2, 296.7, 0.1, 500.2, 0, 11.7, 8.1],\n",
    "    [\"Raisin Brn\", 115.1, 12.9, 16.8, 1250.2, 4, 27.9, 4],\n",
    "    [\"Hotdog\", 242.1, 23.5, 2.3, 0, 0, 18, 10.4]\n",
    "], columns=[\"Food\", \"Calories\", \"Calcium\", \"Iron\", \"Vit_A\", \"Dietary_Fiber\", \"Carbohydrates\", \"Protein\"])\n",
    "\n",
    "diet_nutrients = pd.DataFrame([\n",
    "    [\"Calories\", 2000, 2500],\n",
    "    [\"Calcium\", 800, 1600],\n",
    "    [\"Iron\", 10, 30],\n",
    "    [\"Vit_A\", 5000, 50000],\n",
    "    [\"Dietary_Fiber\", 25, 100],\n",
    "    [\"Carbohydrates\", 0, 300],\n",
    "    [\"Protein\", 50, 100]\n",
    "], columns=[\"name\", \"qmin\", \"qmax\"])"
   ]
  },
  {
   "cell_type": "code",
   "execution_count": 16,
   "metadata": {},
   "outputs": [],
   "source": [
    "job_payload_ref = {\n",
    "    client.deployments.DecisionOptimizationMetaNames.INPUT_DATA: [\n",
    "        {\n",
    "            \"id\": \"diet_food.csv\",\n",
    "            \"values\": diet_food\n",
    "        },\n",
    "        {\n",
    "            \"id\": \"diet_food_nutrients.csv\",\n",
    "            \"values\": diet_food_nutrients\n",
    "        },\n",
    "        {\n",
    "            \"id\": \"diet_nutrients.csv\",\n",
    "            \"values\": diet_nutrients\n",
    "        }\n",
    "    ],\n",
    "    client.deployments.DecisionOptimizationMetaNames.OUTPUT_DATA: [\n",
    "        {\n",
    "            \"id\": \".*.csv\"\n",
    "        }\n",
    "    ]\n",
    "}"
   ]
  },
  {
   "cell_type": "markdown",
   "metadata": {},
   "source": [
    "Create job using Watson Machine Learning client"
   ]
  },
  {
   "cell_type": "code",
   "execution_count": 17,
   "metadata": {},
   "outputs": [],
   "source": [
    "job = client.deployments.create_job(deployment_uid, meta_props=job_payload_ref)"
   ]
  },
  {
   "cell_type": "markdown",
   "metadata": {},
   "source": [
    "Checking created job status and calculated KPI."
   ]
  },
  {
   "cell_type": "code",
   "execution_count": 18,
   "metadata": {},
   "outputs": [
    {
     "name": "stdout",
     "output_type": "stream",
     "text": [
      "KPI: 2000.0\n"
     ]
    }
   ],
   "source": [
    "import time\n",
    "\n",
    "job_id = client.deployments.get_job_uid(job)\n",
    "\n",
    "elapsed_time = 0\n",
    "while client.deployments.get_job_status(job_id).get('state') != 'completed' and elapsed_time < 300:\n",
    "    elapsed_time += 10\n",
    "    time.sleep(10)\n",
    "if client.deployments.get_job_status(job_id).get('state') == 'completed':\n",
    "    job_details_do = client.deployments.get_job_details(job_id)\n",
    "    kpi = job_details_do['entity']['decision_optimization']['solve_state']['details']['KPI.Total Calories']\n",
    "    print(f\"KPI: {kpi}\")\n",
    "else:\n",
    "    print(\"Job hasn't completed successfully in 5 minutes.\")"
   ]
  },
  {
   "cell_type": "markdown",
   "metadata": {},
   "source": [
    "<a id=\"cleanup\"></a>\n",
    "## 6. Clean up "
   ]
  },
  {
   "cell_type": "markdown",
   "metadata": {},
   "source": [
    "If you want to clean up all created assets:\n",
    "- experiments\n",
    "- trainings\n",
    "- pipelines\n",
    "- model definitions\n",
    "- models\n",
    "- functions\n",
    "- deployments\n",
    "\n",
    "please follow up this sample [notebook](https://github.com/IBM/watson-machine-learning-samples/blob/master/cpd4.0/notebooks/python_sdk/instance-management/Machine%20Learning%20artifacts%20management.ipynb)."
   ]
  },
  {
   "cell_type": "markdown",
   "metadata": {},
   "source": [
    "<a id=\"summary\"></a>\n",
    "## 7. Summary and next steps"
   ]
  },
  {
   "cell_type": "markdown",
   "metadata": {},
   "source": [
    "You successfully completed this notebook! You learned how to use DO as well as Watson Machine Learning for model creation and deployment. \n",
    "\n",
    "Check out our _[Online Documentation](https://dataplatform.cloud.ibm.com/docs/content/analyze-data/wml-setup.html)_ for more samples, tutorials, documentation, how-tos, and blog posts. \n"
   ]
  },
  {
   "cell_type": "markdown",
   "metadata": {},
   "source": [
    "### Authors\n",
    "\n",
    "**Wojciech Jargielo**, Software Engineer"
   ]
  },
  {
   "cell_type": "markdown",
   "metadata": {},
   "source": [
    "Copyright © 2020, 2021, 2022 IBM. This notebook and its source code are released under the terms of the MIT License.\n"
   ]
  }
 ],
 "metadata": {
  "kernelspec": {
   "display_name": "Python 3",
   "language": "python",
   "name": "python3"
  },
  "language_info": {
   "codemirror_mode": {
    "name": "ipython",
    "version": 3
   },
   "file_extension": ".py",
   "mimetype": "text/x-python",
   "name": "python",
   "nbconvert_exporter": "python",
   "pygments_lexer": "ipython3",
   "version": "3.7.10"
  }
 },
 "nbformat": 4,
 "nbformat_minor": 4
}