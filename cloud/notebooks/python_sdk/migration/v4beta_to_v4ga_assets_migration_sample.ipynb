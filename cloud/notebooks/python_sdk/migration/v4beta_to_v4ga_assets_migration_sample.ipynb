{
 "cells": [
  {
   "cell_type": "code",
   "execution_count": 2,
   "metadata": {},
   "outputs": [
    {
     "name": "stdout",
     "output_type": "stream",
     "text": [
      "NOTE!! DEPRECATED!! Creating assets using this flow(v4 beta) is deprecated starting Sep 1st, 2020 and will be discontinued at the end of the migration period. Refer to the documentation at 'https://dataplatform.cloud.ibm.com/docs/content/wsj/analyze-data/wml-ai.html' for the migration process to be able to access new features\n",
      "Using cluster https://wml-fvt.ml.test.cloud.ibm.com\n"
     ]
    }
   ],
   "source": [
    "# Create v4 beta client object\n",
    "from ibm_watson_machine_learning import APIClient\n",
    "v4beta_wml_credentials = {\n",
    "                           \"apikey\":\"<your apikey>\",\n",
    "                           \"url\": \"https://wml-fvt.ml.test.cloud.ibm.com\",\n",
    "                           \"instance_id\": \"a5a0e69c-cb3d-4b81-b357-3d3f5d8eb600\" # This should be v1 instance plan to view assets in v4beta\n",
    "                         }\n",
    "v4beta_client = APIClient(v4beta_wml_credentials)\n",
    "print('Using cluster', v4beta_wml_credentials['url'])"
   ]
  },
  {
   "cell_type": "code",
   "execution_count": 3,
   "metadata": {},
   "outputs": [
    {
     "name": "stdout",
     "output_type": "stream",
     "text": [
      "Using cluster https://wml-fvt.ml.test.cloud.ibm.com\n"
     ]
    }
   ],
   "source": [
    "# Create v4ga client object. Note: instance_id not required. instance_id will be picked up from space/project to which the instance is associated with\n",
    "from ibm_watson_machine_learning import APIClient\n",
    "v4_wml_credentials = {\n",
    "                      \"apikey\":\"<your apikey>\",\n",
    "                      \"url\": \"https://wml-fvt.ml.test.cloud.ibm.com\"\n",
    "                     }\n",
    "v4ga_client = APIClient(v4_wml_credentials)\n",
    "print('Using cluster', v4_wml_credentials['url'])"
   ]
  },
  {
   "cell_type": "code",
   "execution_count": 4,
   "metadata": {},
   "outputs": [
    {
     "name": "stdout",
     "output_type": "stream",
     "text": [
      "------------------------------------  ---------------------------------------  ------------------------  -----------------\n",
      "GUID                                  NAME                                     CREATED                   TYPE\n",
      "790cc93f-decc-4185-99ca-58efb4d36de6  KerasModel                               2020-08-05T06:14:13.122Z  keras_2.1.6\n",
      "5e56a59d-334a-456e-aa2c-a1558b034ae1  LOCALLY created Digits prediction model  2020-08-05T05:44:54.836Z  scikit-learn_0.20\n",
      "2b92fe21-d644-435c-828a-e6ea95ed9170  LOCALLY created Digits prediction model  2020-08-05T04:56:26.000Z  scikit-learn_0.20\n",
      "f9a22b69-5790-4877-a0fc-fbfa9035923d  LOCALLY created Digits prediction model  2020-08-05T04:34:26.253Z  scikit-learn_0.20\n",
      "6e4e887e-d9a3-40cc-ac95-de2cdcb6a254  KerasModel                               2020-08-04T11:03:04.982Z  keras_2.1.6\n",
      "994771cf-99ba-4d53-86ea-f70e443ce3ab  KerasModel                               2020-08-04T11:00:43.752Z  keras_2.1.6\n",
      "341556ae-2bc7-40b0-9758-0ba8fe259fae  KerasModel                               2020-08-04T10:52:56.488Z  keras_2.1.6\n",
      "80e04b24-8958-4c5c-9e5a-1b8ce38b14a6  KerasModel                               2020-08-04T10:50:06.218Z  keras_2.1.6\n",
      "3fc21545-8c9f-4d2c-985f-94511ddadafe  KerasModel                               2020-08-04T10:45:56.903Z  keras_2.1.6\n",
      "72e5f7bf-c16c-4a1e-8672-1db6342c5ed3  KerasModel                               2020-07-27T13:01:04.231Z  keras_2.1.6\n",
      "ce78e625-a7fb-4eb0-9a62-9ccc5ae12bb0  KerasModel                               2020-07-27T12:45:47.313Z  keras_2.1.6\n",
      "da8d9a66-7da8-443e-8e74-c10131c0d065  KerasModel                               2020-07-27T12:43:54.465Z  keras_2.1.6\n",
      "9182b0d5-ba22-48e2-8dc4-c5768d748980  KerasModel                               2020-07-21T07:13:46.956Z  keras_2.1.6\n",
      "04d3af27-60db-49cc-9ba2-a92714779a49  KerasModel                               2020-07-20T11:32:04.683Z  keras_2.1.6\n",
      "62164c5c-29da-4fe4-9a21-48a5f2bc36b6  KerasModel                               2020-07-20T09:04:10.737Z  keras_2.1.6\n",
      "cbf9ee41-2a6a-489e-832f-f4a7a7283180  KerasModel                               2020-07-20T09:01:01.003Z  keras_2.1.6\n",
      "9b197a06-e534-4f30-9f92-0609ce3c7a1e  KerasModel                               2020-07-20T08:28:30.280Z  keras_2.1.6\n",
      "1197deed-42af-4dbb-8c01-69941430d5fe  KerasModel                               2020-07-20T08:27:14.762Z  keras_2.1.6\n",
      "681abe6e-fcdc-4ac2-a34b-90c69e6194f2  KerasModel                               2020-07-20T08:25:12.862Z  keras_2.1.6\n",
      "------------------------------------  ---------------------------------------  ------------------------  -----------------\n"
     ]
    }
   ],
   "source": [
    "v4beta_client.repository.list_models()"
   ]
  },
  {
   "cell_type": "code",
   "execution_count": 5,
   "metadata": {
    "scrolled": true
   },
   "outputs": [
    {
     "name": "stdout",
     "output_type": "stream",
     "text": [
      "------------------------------------  --------------------  ------------------------  ------\n",
      "GUID                                  NAME                  CREATED                   TYPE\n",
      "d377bd7a-be1d-4927-906b-d402f182e68d  simplest AI function  2020-08-07T09:17:20.029Z  python\n",
      "43cdb92d-8382-488e-a81b-0f07910630b9  simplest AI function  2020-08-06T06:36:24.851Z  python\n",
      "07c8c41a-67d4-43ab-9d90-3eab3631d344  simplest AI function  2020-08-05T11:39:35.563Z  python\n",
      "0a52dc98-f077-4e48-828a-1588bbe5d8a4  simplest AI function  2020-08-05T11:34:34.510Z  python\n",
      "b0fb4a9b-9f06-4adf-8ce3-bfb3fe1440d1  simplest AI function  2020-08-05T11:32:18.642Z  python\n",
      "c4fdb08b-c220-4d02-93d5-375506d2785a  simplest AI function  2020-08-05T11:31:06.024Z  python\n",
      "1ee8311e-fe76-45fb-963f-3dac33a7bdc0  beta client           2020-08-04T11:03:11.001Z  python\n",
      "e49aacd4-d17b-403f-a1f8-9c948f3a8bc8  beta client           2020-08-04T11:00:52.183Z  python\n",
      "d275f90f-4985-4fa3-86b8-52443cde23a9  beta client           2020-08-04T10:53:11.316Z  python\n",
      "166df869-6f48-4224-8be2-7fb016b28ce5  beta client           2020-08-04T10:50:27.470Z  python\n",
      "8019ebbd-303d-4da2-9739-66f6345b44d5  beta client           2020-08-04T10:46:01.507Z  python\n",
      "2010aa46-3731-42cc-bee8-4773e55d0bba  beta client           2020-07-27T12:44:51.739Z  python\n",
      "de73b614-cb01-48d0-859c-61214de35085  beta client           2020-07-21T07:14:12.354Z  python\n",
      "6d378559-c754-43e2-861d-7028f75dab6b  beta client           2020-07-20T11:32:26.953Z  python\n",
      "a2dfff36-73cb-42db-961e-79c1b16a5c04  beta client           2020-07-20T09:04:30.685Z  python\n",
      "29e39260-c835-46b1-8a1b-178f8f419bfc  beta client           2020-07-20T09:01:23.882Z  python\n",
      "11904231-d97d-4956-b2b9-86da7a0afa51  beta client           2020-07-20T08:28:52.514Z  python\n",
      "------------------------------------  --------------------  ------------------------  ------\n"
     ]
    }
   ],
   "source": [
    "v4beta_client.repository.list_functions()"
   ]
  },
  {
   "cell_type": "code",
   "execution_count": 6,
   "metadata": {},
   "outputs": [
    {
     "name": "stdout",
     "output_type": "stream",
     "text": [
      "------------------------------------  ------------------  ------------------------\n",
      "GUID                                  NAME                CREATED\n",
      "06997e59-1c46-4304-aa00-a2560d1c5c2b  sample v4 pipeline  2020-08-05T12:36:43.647Z\n",
      "f2b892ae-35e7-4b3e-8784-cf00565f5c04  sample v4 pipeline  2020-08-05T12:32:05.018Z\n",
      "9e4342bc-39f3-4aa4-81af-6ef2c954a2f7  sample v4 pipeline  2020-08-05T12:30:24.867Z\n",
      "9b0271a6-1f02-4d74-8a49-4851ff7ce8c1  sample v4 pipeline  2020-08-05T09:43:44.080Z\n",
      "dbb5818a-9cb9-47f5-8424-65deea45909f  sample v4 pipeline  2020-08-05T08:40:06.459Z\n",
      "------------------------------------  ------------------  ------------------------\n"
     ]
    }
   ],
   "source": [
    "v4beta_client.repository.list_pipelines()"
   ]
  },
  {
   "cell_type": "code",
   "execution_count": 7,
   "metadata": {},
   "outputs": [
    {
     "name": "stdout",
     "output_type": "stream",
     "text": [
      "------------------------------------  ----  ------------------------\n",
      "GUID                                  NAME  CREATED\n",
      "f488d74f-0d68-4810-b235-4f0e98add0b9  xxx   2020-08-06T06:44:49.544Z\n",
      "2abe9a41-b729-4bad-a33d-abbd76b754e3  xxx   2020-08-06T06:37:38.091Z\n",
      "3114f562-7a3c-4385-87af-3a8dc2487b13  xxx   2020-08-05T12:36:44.668Z\n",
      "61e5b94c-e6ef-4c42-b725-d52f0334eaf3  xxx   2020-08-05T10:59:09.970Z\n",
      "------------------------------------  ----  ------------------------\n"
     ]
    }
   ],
   "source": [
    "v4beta_client.repository.list_experiments()"
   ]
  },
  {
   "cell_type": "code",
   "execution_count": 8,
   "metadata": {},
   "outputs": [],
   "source": [
    "# Space should be created before migration apis can be invoked. Assets from the old instance will be cloned \n",
    "# under this space. In v4ga, space/project is mandatory to be set to access/create assets\n",
    "space_id = '70f0952e-9947-4592-bd99-54e7890ce836'"
   ]
  },
  {
   "cell_type": "code",
   "execution_count": 9,
   "metadata": {},
   "outputs": [
    {
     "name": "stdout",
     "output_type": "stream",
     "text": [
      "NOTE: This migration API is only available during the migration period for moving assets to a project or space for use with new machine learning service plans and v4 APIs on Cloud. Refer to the documentation at 'https://dataplatform.cloud.ibm.com/docs/content/wsj/analyze-data/wml-ai.html' for details on new plans and features.\n",
      "\n",
      "Migration has been started. The initial state information is below. To monitor the migration job, you can use client.v4ga_cloud_migration.get_details api where you can provide the 'migration_id' and 'space_id'/'project_id' to monitor the status of migration. If you see 'skipped' section in the output from get_details() api, its because the assets listed in 'skipped' section would already be migrated. Use 'SKIP_MIGRATED_ASSETS' to False in start() api( by default, its True ) in case you want the assets to be re-migrated again\n",
      "{'console': [], 'created_at': 1598334533131, 'migration_id': '959bcd20-c790-48ce-b9fa-9abdbbbe14bc', 'modified_at': 1598334533131, 'old_instance': {'instance_id': 'a5a0e69c-cb3d-4b81-b357-3d3f5d8eb600'}, 'results': {'failed': [], 'successful': []}, 'space_id': '70f0952e-9947-4592-bd99-54e7890ce836', 'status': 'pending'}\n"
     ]
    }
   ],
   "source": [
    "# Use help to know more about the api details. Eg: help(client.v4ga_cloud_migration.start), help(client.v4ga_cloud_migration.delete) \n",
    "meta_props = {\n",
    "    v4ga_client.v4ga_cloud_migration.ConfigurationMetaNames.DESCRIPTION: \"Migration of assets from v4 beta to v4ga\",\n",
    "    v4ga_client.v4ga_cloud_migration.ConfigurationMetaNames.OLD_INSTANCE_ID: \"a5a0e69c-cb3d-4b81-b357-3d3f5d8eb600\",\n",
    "    v4ga_client.v4ga_cloud_migration.ConfigurationMetaNames.SPACE_ID: space_id,\n",
    "    v4ga_client.v4ga_cloud_migration.ConfigurationMetaNames.MODEL_IDS: [\"9b197a06-e534-4f30-9f92-0609ce3c7a1e\",\n",
    "                                                                        \"cbf9ee41-2a6a-489e-832f-f4a7a7283180\",\n",
    "                                                                       ],                                                                    \n",
    "    v4ga_client.v4ga_cloud_migration.ConfigurationMetaNames.FUNCTION_IDS: [\"a2dfff36-73cb-42db-961e-79c1b16a5c04\",\n",
    "                                                                           \"6d378559-c754-43e2-861d-7028f75dab6b\"],\n",
    "    v4ga_client.v4ga_cloud_migration.ConfigurationMetaNames.PIPELINE_IDS: [\"9b0271a6-1f02-4d74-8a49-4851ff7ce8c1\"],\n",
    "    v4ga_client.v4ga_cloud_migration.ConfigurationMetaNames.EXPERIMENT_IDS: [\"3114f562-7a3c-4385-87af-3a8dc2487b13\"]\n",
    "}\n",
    "\n",
    "details = v4ga_client.v4ga_cloud_migration.start(meta_props=meta_props)\n",
    "migration_id = details[u'migration_id']\n",
    "print(details)"
   ]
  },
  {
   "cell_type": "code",
   "execution_count": 10,
   "metadata": {},
   "outputs": [
    {
     "name": "stdout",
     "output_type": "stream",
     "text": [
      "NOTE: This migration API is only available during the migration period for moving assets to a project or space for use with new machine learning service plans and v4 APIs on Cloud. Refer to the documentation at 'https://dataplatform.cloud.ibm.com/docs/content/wsj/analyze-data/wml-ai.html' for details on new plans and features.\n",
      "\n",
      "NOTE: This migration API is only available during the migration period for moving assets to a project or space for use with new machine learning service plans and v4 APIs on Cloud. Refer to the documentation at 'https://dataplatform.cloud.ibm.com/docs/content/wsj/analyze-data/wml-ai.html' for details on new plans and features.\n",
      "\n",
      "NOTE: This migration API is only available during the migration period for moving assets to a project or space for use with new machine learning service plans and v4 APIs on Cloud. Refer to the documentation at 'https://dataplatform.cloud.ibm.com/docs/content/wsj/analyze-data/wml-ai.html' for details on new plans and features.\n",
      "\n",
      "NOTE: This migration API is only available during the migration period for moving assets to a project or space for use with new machine learning service plans and v4 APIs on Cloud. Refer to the documentation at 'https://dataplatform.cloud.ibm.com/docs/content/wsj/analyze-data/wml-ai.html' for details on new plans and features.\n",
      "\n",
      "DONE\n"
     ]
    }
   ],
   "source": [
    "# start is an async process. We need to monitor the status\n",
    "import time\n",
    "\n",
    "count = 0\n",
    "\n",
    "while True:\n",
    "    time.sleep(20)\n",
    "    details = v4ga_client.v4ga_cloud_migration.get_details(migration_id, space_id=space_id)\n",
    "    count = count + 1\n",
    "    if details[u'status'] == 'completed' or count == 10:\n",
    "        break\n",
    "        \n",
    "print(\"DONE\")"
   ]
  },
  {
   "cell_type": "code",
   "execution_count": 11,
   "metadata": {},
   "outputs": [
    {
     "name": "stdout",
     "output_type": "stream",
     "text": [
      "NOTE: This migration API is only available during the migration period for moving assets to a project or space for use with new machine learning service plans and v4 APIs on Cloud. Refer to the documentation at 'https://dataplatform.cloud.ibm.com/docs/content/wsj/analyze-data/wml-ai.html' for details on new plans and features.\n",
      "\n",
      "get_details:  {'console': ['Warning: Failed to find an exact match to map runtime tensorflow_1.5-py3 to a software specification. Using software spec 2b73a275-7cbf-420b-a912-eae7f436e0bc. If the asset fails to deploy, create a software spec manually.', 'Warning: Failed to find an exact match to map runtime tensorflow_1.5-py3 to a software specification. Using software spec 2b73a275-7cbf-420b-a912-eae7f436e0bc. If the asset fails to deploy, create a software spec manually.', 'Warning: Failed to find an exact match to map runtime tensorflow_1.5-py3 to a software specification. Using software spec 2b73a275-7cbf-420b-a912-eae7f436e0bc. If the asset fails to deploy, create a software spec manually.'], 'created_at': 1598334533131, 'migration_id': '959bcd20-c790-48ce-b9fa-9abdbbbe14bc', 'modified_at': 1598334617817, 'old_instance': {'instance_id': 'a5a0e69c-cb3d-4b81-b357-3d3f5d8eb600'}, 'results': {'failed': [], 'skipped': [{'asset_name': 'ai-function_0.1-py3.6', 'new_asset_type': 'software_specifications', 'new_id': '0cdb0f1e-5376-4f4d-92dd-da3b69aa9bda', 'old_asset_type': 'runtimes', 'old_id': 'ai-function_0.1-py3.6'}, {'asset_name': 'tensorflow_1.5-py3', 'new_asset_type': 'software_specifications', 'new_id': '2b73a275-7cbf-420b-a912-eae7f436e0bc', 'old_asset_type': 'runtimes', 'old_id': 'tensorflow_1.5-py3'}], 'successful': [{'asset_name': 'sample v4 pipeline2fe3c9e26-04b8-4553-883f-905a528c5f4d', 'new_asset_type': 'model_definitions', 'new_id': '29fd5016-2a3f-450f-ae1c-0ee850e789ef', 'old_asset_type': 'training_libs', 'old_id': '2be6e7cc-6197-416c-ae18-ee25a54d7ceb', 'old_modified_at': '2020-08-05T12:36:41.181Z'}, {'asset_name': 'sample v4 pipeline', 'new_asset_type': 'pipelines', 'new_id': 'ef863efe-6763-4d3f-b4fc-927fed16e29c', 'old_asset_type': 'pipelines', 'old_id': '06997e59-1c46-4304-aa00-a2560d1c5c2b', 'old_modified_at': '2020-08-05T12:36:43.718Z'}, {'asset_name': 'xxx', 'new_asset_type': 'experiments', 'new_id': 'e4da42f0-fcba-4456-b270-973dc0e0dff7', 'old_asset_type': 'experiments', 'old_id': '3114f562-7a3c-4385-87af-3a8dc2487b13', 'old_modified_at': '2020-08-05T12:36:44.722Z'}, {'asset_name': 'beta client', 'new_asset_type': 'functions', 'new_id': '9fd7d8ee-ba63-4c25-8b83-f1636fda831b', 'old_asset_type': 'functions', 'old_id': 'a2dfff36-73cb-42db-961e-79c1b16a5c04', 'old_modified_at': '2020-07-20T09:04:30.744Z'}, {'asset_name': 'beta client', 'new_asset_type': 'functions', 'new_id': '7cf2cc90-bebf-414d-858a-1b34a0cd345a', 'old_asset_type': 'functions', 'old_id': '6d378559-c754-43e2-861d-7028f75dab6b', 'old_modified_at': '2020-07-20T11:32:27.003Z'}, {'asset_name': 'KerasModel', 'new_asset_type': 'models', 'new_id': 'a136f18a-6c16-4975-b37b-b68be861eebe', 'old_asset_type': 'models', 'old_id': '9b197a06-e534-4f30-9f92-0609ce3c7a1e', 'old_modified_at': '2020-07-20T08:28:30.324Z'}, {'asset_name': 'KerasModel', 'new_asset_type': 'models', 'new_id': 'a13d5559-87d5-4916-aff8-cd7584cacb3b', 'old_asset_type': 'models', 'old_id': 'cbf9ee41-2a6a-489e-832f-f4a7a7283180', 'old_modified_at': '2020-07-20T09:01:01.054Z'}, {'asset_name': 'sample v4 pipeline2f33051dc-7169-44db-b93c-ad9eeba4245d', 'new_asset_type': 'model_definitions', 'new_id': 'fef06fb1-53af-45ba-b0e5-a8eb7d9e5ebc', 'old_asset_type': 'training_libs', 'old_id': '480a02df-077e-439b-a2a4-e05fc548cb1c', 'old_modified_at': '2020-08-05T09:43:43.399Z'}, {'asset_name': 'sample v4 pipeline', 'new_asset_type': 'pipelines', 'new_id': '4090f908-0d9d-4a17-ba96-f6103669b3b9', 'old_asset_type': 'pipelines', 'old_id': '9b0271a6-1f02-4d74-8a49-4851ff7ce8c1', 'old_modified_at': '2020-08-05T09:43:44.151Z'}]}, 'space_id': '70f0952e-9947-4592-bd99-54e7890ce836', 'status': 'completed'}\n"
     ]
    }
   ],
   "source": [
    "print(\"get_details: \", v4ga_client.v4ga_cloud_migration.get_details(migration_id, space_id=space_id))"
   ]
  },
  {
   "cell_type": "code",
   "execution_count": 14,
   "metadata": {},
   "outputs": [
    {
     "name": "stdout",
     "output_type": "stream",
     "text": [
      "{'entity': {'custom': {'migrated_from': {'asset_id': '6d378559-c754-43e2-861d-7028f75dab6b', 'asset_type': 'functions', 'instance_id': 'a5a0e69c-cb3d-4b81-b357-3d3f5d8eb600'}}, 'software_spec': {'id': '0cdb0f1e-5376-4f4d-92dd-da3b69aa9bda', 'name': 'ai-function_0.1-py3.6'}, 'type': 'python'}, 'metadata': {'created_at': '2020-08-25T05:49:44.360Z', 'description': 'desc', 'id': '7cf2cc90-bebf-414d-858a-1b34a0cd345a', 'modified_at': '2020-08-25T05:49:47.515Z', 'name': 'beta client', 'owner': 'iam-ServiceId-d18861be-36a9-4abd-beda-73d38a807a7d', 'space_id': '70f0952e-9947-4592-bd99-54e7890ce836', 'tags': ['ProjectA']}}\n"
     ]
    }
   ],
   "source": [
    "# Let's check the migrated asset with the v4ga client\n",
    "v4ga_client.set.default_space(space_id)\n",
    "print(v4ga_client.repository.get_details('7cf2cc90-bebf-414d-858a-1b34a0cd345a'))"
   ]
  },
  {
   "cell_type": "code",
   "execution_count": 15,
   "metadata": {},
   "outputs": [
    {
     "name": "stdout",
     "output_type": "stream",
     "text": [
      "NOTE: This migration API is only available during the migration period for moving assets to a project or space for use with new machine learning service plans and v4 APIs on Cloud. Refer to the documentation at 'https://dataplatform.cloud.ibm.com/docs/content/wsj/analyze-data/wml-ai.html' for details on new plans and features.\n",
      "\n",
      "------------------------------------  ---------  ------------------------------------\n",
      "ID                                    STATUS     SPACE_ID\n",
      "959bcd20-c790-48ce-b9fa-9abdbbbe14bc  completed  70f0952e-9947-4592-bd99-54e7890ce836\n",
      "------------------------------------  ---------  ------------------------------------\n",
      "None\n"
     ]
    }
   ],
   "source": [
    "print(v4ga_client.v4ga_cloud_migration.list(space_id=space_id))"
   ]
  },
  {
   "cell_type": "code",
   "execution_count": 16,
   "metadata": {},
   "outputs": [
    {
     "name": "stdout",
     "output_type": "stream",
     "text": [
      "NOTE: This migration API is only available during the migration period for moving assets to a project or space for use with new machine learning service plans and v4 APIs on Cloud. Refer to the documentation at 'https://dataplatform.cloud.ibm.com/docs/content/wsj/analyze-data/wml-ai.html' for details on new plans and features.\n",
      "\n",
      "Migration job deleted\n",
      "None\n"
     ]
    }
   ],
   "source": [
    "print(v4ga_client.v4ga_cloud_migration.delete(migration_id, space_id=space_id))"
   ]
  }
 ],
 "metadata": {
  "kernelspec": {
   "display_name": "Python 3",
   "language": "python",
   "name": "python3"
  },
  "language_info": {
   "codemirror_mode": {
    "name": "ipython",
    "version": 3
   },
   "file_extension": ".py",
   "mimetype": "text/x-python",
   "name": "python",
   "nbconvert_exporter": "python",
   "pygments_lexer": "ipython3",
   "version": "3.7.9"
  }
 },
 "nbformat": 4,
 "nbformat_minor": 2
}
